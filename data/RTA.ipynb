{
 "cells": [
  {
   "cell_type": "code",
   "execution_count": 120,
   "metadata": {},
   "outputs": [],
   "source": [
    "import pandas as pd\n",
    "import pycountry\n",
    "import numpy as np\n",
    "import json"
   ]
  },
  {
   "cell_type": "markdown",
   "metadata": {},
   "source": [
    "# Data preparation"
   ]
  },
  {
   "cell_type": "code",
   "execution_count": 167,
   "metadata": {},
   "outputs": [],
   "source": [
    "df = pd.read_excel('RTA.xlsx')\n",
    "\n",
    "# get only active and non-accession RTAs\n",
    "active = df[(df.Status.map(lambda x: x.lower()[0:8]) == \"in force\") & (df['Accession?'] == \"No\")][[\"RTA Name\", \"Type\", \"RTA Composition\", \"Current signatories\", \"Original signatories\"]]"
   ]
  },
  {
   "cell_type": "code",
   "execution_count": 168,
   "metadata": {
    "scrolled": true
   },
   "outputs": [],
   "source": [
    "# https://www.iso.org/obp/ui/#search\n",
    "\n",
    "def get_country(country):\n",
    "    \n",
    "    convert = {\n",
    "        \"Bahrain, Kingdom of\": \"Bahrain\",\n",
    "        \"CÙte d'Ivoire\": \"Côte d'Ivoire\",\n",
    "        \"Faeroe Islands\": \"Faroe Islands\",\n",
    "        \"Palestine\": \"Palestine, State of\",\n",
    "        \"Hong Kong, China\": \"Hong Kong\",\n",
    "        \"Chinese Taipei\": \"Taiwan\",\n",
    "        \"Macao, China\": \"Macao\",\n",
    "        \"Iran\": \"Iran, Islamic Republic of\",\n",
    "        \"Democratic Republic of the Congo\": \"Congo, The Democratic Republic of the\",\n",
    "        \"Kuwait, the State of\": \"Kuwait\",\n",
    "        \"Saudi Arabia, Kingdom of\": \"Saudi Arabia\",\n",
    "        \"The Gambia\": \"Gambia\",\n",
    "        \"Falkland Islands (Islas Malvinas)\": \"Falkland Islands (Malvinas)\",\n",
    "        \"Wallis and Futuna Islands\": \"Wallis and Futuna\",\n",
    "        \"British Overseas Territory of Saint Helena, Ascension and Tristan da Cunha\": \"Saint Helena, Ascension and Tristan da Cunha\",\n",
    "        \"Aruba, the Netherlands with respect to\": \"Aruba\",\n",
    "    }\n",
    "    if country in convert:\n",
    "        country = convert[country]\n",
    "    \n",
    "    x = pycountry.countries.get(name=country) or pycountry.countries.get(official_name=country) or pycountry.countries.get(common_name=country)\n",
    "    if (x):\n",
    "        return (x.alpha_2, \"\")\n",
    "\n",
    "    return (None, country)\n",
    "\n",
    "def namelist_to_list(string):\n",
    "    codelist = []\n",
    "    notfoundlist = []\n",
    "    namelist = string.split(';')\n",
    "    for country in namelist:\n",
    "        # Hard-coded... Actually includes Aruba as well, but already in the database separately\n",
    "        if country.strip() == \"Netherlands Antilles\":\n",
    "            codelist = codelist + [\"CW\", \"SX\", \"BQ\"]\n",
    "        elif country.strip() == \"UNMIK/Kosovo\":\n",
    "            codelist.append(\"XK\")\n",
    "        else:\n",
    "            (code, notfound) = get_country(country.strip())\n",
    "            if notfound == \"\":\n",
    "                # no problem\n",
    "                codelist.append(code)\n",
    "            else:\n",
    "                notfoundlist.append(notfound)\n",
    "    return codelist, notfoundlist\n",
    "\n",
    "def get_countries_from_rta(rtaname):\n",
    "    if rtaname == \"European Union\":\n",
    "        rtaname = \"EU Treaty\"\n",
    "        \n",
    "    filtered_rta = coded[coded['RTA Name'] == rtaname]\n",
    "    if len(filtered_rta) == 0:\n",
    "        return [], rtaname\n",
    "    elif len(filtered_rta) > 1:\n",
    "        raise ValueError('More than one RTA found with name {}'.format(rtaname))\n",
    "    elif len(filtered_rta) == 1:\n",
    "        rta_country_list = filtered_rta.iloc[0].code\n",
    "        return rta_country_list, \"\"\n",
    "\n",
    "def get_countries_from_rta_list(rtalist):\n",
    "    codelist = []\n",
    "    notfoundlist = []\n",
    "    for rtaname in rtalist:\n",
    "        country_list, notfound = get_countries_from_rta(rtaname)\n",
    "        if (notfound == \"\"):\n",
    "            # no problem\n",
    "            codelist = codelist + country_list\n",
    "        else:\n",
    "            notfoundlist.append(notfound)\n",
    "    return codelist, notfoundlist"
   ]
  },
  {
   "cell_type": "code",
   "execution_count": 169,
   "metadata": {},
   "outputs": [],
   "source": [
    "# --- resolve countries ---\n",
    "\n",
    "x = active[\"Current signatories\"].map(namelist_to_list)\n",
    "\n",
    "new = pd.DataFrame([[a, b] for a, b in x], columns=[\"code\", \"notfound\"], index=x.index)\n",
    "coded = pd.concat([active, new], axis=1)\n",
    "\n",
    "# --- resolve RTAs ---\n",
    "\n",
    "x = coded.loc[:, 'notfound'].map(get_countries_from_rta_list)\n",
    "# x = coded[coded['notfound'].apply(len) > 0].loc[:, 'notfound'].map(get_countries_from_rta_list)\n",
    "\n",
    "new = pd.DataFrame([[a, b] for a, b in x], columns=[\"newcode\", \"newnotfound\"], index=x.index)\n",
    "coded = pd.concat([coded, new], axis=1)\n",
    "\n",
    "coded['code'] = coded['code'] + coded['newcode']"
   ]
  },
  {
   "cell_type": "code",
   "execution_count": 170,
   "metadata": {},
   "outputs": [],
   "source": [
    "df = coded[['RTA Name', 'Type', 'code']].rename({\"RTA Name\": \"rta\", \"Type\": \"type\", \"code\": \"countries\"}, axis=1)\n",
    "df = df.reset_index(drop=True)"
   ]
  },
  {
   "cell_type": "markdown",
   "metadata": {},
   "source": [
    "# Convert into links"
   ]
  },
  {
   "cell_type": "code",
   "execution_count": 171,
   "metadata": {},
   "outputs": [],
   "source": [
    "# take row in df and convert to array of links\n",
    "\n",
    "def row_to_links(countrylist, rta_id):\n",
    "    tmp = countrylist.copy()\n",
    "    tmp.sort()\n",
    "    ret = {}\n",
    "    for i in range(0, len(tmp)):\n",
    "        for j in range(i + 1, len(tmp)):\n",
    "            ret[tmp[i] + \"-\" + tmp[j]] = {\"source\": tmp[i], \"target\": tmp[j], \"rtas\": [rta_id]}\n",
    "    return ret"
   ]
  },
  {
   "cell_type": "markdown",
   "metadata": {},
   "source": [
    "# Get country size"
   ]
  },
  {
   "cell_type": "code",
   "execution_count": 172,
   "metadata": {},
   "outputs": [],
   "source": [
    "# https://data.worldbank.org/indicator/NY.GDP.MKTP.PP.CD\n",
    "gdp_raw = pd.read_csv('GDP.csv', header=2)\n",
    "gdp_raw = gdp_raw.drop(['Unnamed: 65'], axis=1)\n",
    "\n",
    "def get_latest(row):\n",
    "    maxcol = max([i for i, b in enumerate(row.notna()) if b])\n",
    "    return row.iloc[maxcol], row.index[maxcol]\n",
    "\n",
    "def get_alpha2_from_alpha3(alpha3):\n",
    "    if alpha3 == \"XKX\":\n",
    "        return \"XK\"\n",
    "    c = pycountry.countries.get(alpha_3=alpha3)\n",
    "    if c == None:\n",
    "        return None\n",
    "    return c.alpha_2\n",
    "\n",
    "x = gdp_raw.apply(get_latest, axis=1)\n",
    "\n",
    "new = pd.DataFrame([[a, b] for a, b in x], columns=[\"gdp\", \"gdp_year\"], index=x.index)\n",
    "gdp = pd.concat([gdp_raw, new], axis=1)[['Country Name', 'Country Code', 'gdp', 'gdp_year']]\n",
    "gdp = gdp.rename({\"Country Name\": \"country\", \"Country Code\": \"code\"}, axis=1)\n",
    "gdp['code'] = gdp['code'].apply(get_alpha2_from_alpha3)\n",
    "gdp = gdp.set_index('code')\n",
    "gdp.index.name = None"
   ]
  },
  {
   "cell_type": "code",
   "execution_count": 173,
   "metadata": {},
   "outputs": [],
   "source": [
    "world_gdp = gdp[gdp['country'] == \"World\"].gdp[0]"
   ]
  },
  {
   "cell_type": "code",
   "execution_count": 174,
   "metadata": {},
   "outputs": [
    {
     "data": {
      "text/html": [
       "<div>\n",
       "<style scoped>\n",
       "    .dataframe tbody tr th:only-of-type {\n",
       "        vertical-align: middle;\n",
       "    }\n",
       "\n",
       "    .dataframe tbody tr th {\n",
       "        vertical-align: top;\n",
       "    }\n",
       "\n",
       "    .dataframe thead th {\n",
       "        text-align: right;\n",
       "    }\n",
       "</style>\n",
       "<table border=\"1\" class=\"dataframe\">\n",
       "  <thead>\n",
       "    <tr style=\"text-align: right;\">\n",
       "      <th></th>\n",
       "      <th>country</th>\n",
       "      <th>gdp</th>\n",
       "      <th>gdp_year</th>\n",
       "    </tr>\n",
       "  </thead>\n",
       "  <tbody>\n",
       "    <tr>\n",
       "      <th>GI</th>\n",
       "      <td>Gibraltar</td>\n",
       "      <td>NY.GDP.MKTP.CD</td>\n",
       "      <td>Indicator Code</td>\n",
       "    </tr>\n",
       "    <tr>\n",
       "      <th>NaN</th>\n",
       "      <td>Not classified</td>\n",
       "      <td>NY.GDP.MKTP.CD</td>\n",
       "      <td>Indicator Code</td>\n",
       "    </tr>\n",
       "    <tr>\n",
       "      <th>MF</th>\n",
       "      <td>St. Martin (French part)</td>\n",
       "      <td>NY.GDP.MKTP.CD</td>\n",
       "      <td>Indicator Code</td>\n",
       "    </tr>\n",
       "    <tr>\n",
       "      <th>KP</th>\n",
       "      <td>Korea, Dem. People’s Rep.</td>\n",
       "      <td>NY.GDP.MKTP.CD</td>\n",
       "      <td>Indicator Code</td>\n",
       "    </tr>\n",
       "    <tr>\n",
       "      <th>VG</th>\n",
       "      <td>British Virgin Islands</td>\n",
       "      <td>NY.GDP.MKTP.CD</td>\n",
       "      <td>Indicator Code</td>\n",
       "    </tr>\n",
       "  </tbody>\n",
       "</table>\n",
       "</div>"
      ],
      "text/plain": [
       "                       country             gdp        gdp_year\n",
       "GI                   Gibraltar  NY.GDP.MKTP.CD  Indicator Code\n",
       "NaN             Not classified  NY.GDP.MKTP.CD  Indicator Code\n",
       "MF    St. Martin (French part)  NY.GDP.MKTP.CD  Indicator Code\n",
       "KP   Korea, Dem. People’s Rep.  NY.GDP.MKTP.CD  Indicator Code\n",
       "VG      British Virgin Islands  NY.GDP.MKTP.CD  Indicator Code"
      ]
     },
     "execution_count": 174,
     "metadata": {},
     "output_type": "execute_result"
    }
   ],
   "source": [
    "gdp[gdp['gdp_year'] == \"Indicator Code\"]"
   ]
  },
  {
   "cell_type": "code",
   "execution_count": 175,
   "metadata": {},
   "outputs": [],
   "source": [
    "gdp.loc[gdp['gdp_year'] == \"Indicator Code\", ['gdp', 'gdp_year']] = np.NaN"
   ]
  },
  {
   "cell_type": "markdown",
   "metadata": {},
   "source": [
    "# Get region"
   ]
  },
  {
   "cell_type": "code",
   "execution_count": 176,
   "metadata": {},
   "outputs": [],
   "source": [
    "# https://github.com/lukes/ISO-3166-Countries-with-Regional-Codes/blob/master/all/all.csv\n",
    "region = pd.read_csv('region.csv', keep_default_na=False)\n",
    "region = region[['name', 'alpha-2', 'alpha-3', 'region', 'sub-region']]\n",
    "\n",
    "tmp = pd.Series([\"Kosovo\", \"XK\", \"XKX\", \"Europe\", \"Southern Europe\"], index=region.columns)\n",
    "region = region.append(tmp, ignore_index=True)\n",
    "\n",
    "region = region.set_index('alpha-2')\n",
    "region.index.name = None"
   ]
  },
  {
   "cell_type": "code",
   "execution_count": 177,
   "metadata": {
    "scrolled": true
   },
   "outputs": [],
   "source": [
    "country_data = region.join(gdp[['gdp', 'gdp_year']])\n",
    "\n",
    "override_gdp = [\n",
    "    [\"AI\", 379584360.4, 2019],\n",
    "#     AQ                                      Antarctica\n",
    "#     AX                                   Åland Islands\n",
    "#     BL                                Saint Barthélemy\n",
    "#     BQ                Bonaire, Sint Eustatius and Saba\n",
    "#     BV                                   Bouvet Island\n",
    "#     CC                         Cocos (Keeling) Islands\n",
    "    [\"CK\", 379097592.4, 2019],\n",
    "#     CX                                Christmas Island\n",
    "#     EH                                  Western Sahara\n",
    "    [\"FK\", 206.4e6, 2015],\n",
    "#     GF                                   French Guiana\n",
    "    [\"GG\", 2.742e9, 2005],\n",
    "    [\"GI\", 3.22e9, 2018],\n",
    "#     GP                                      Guadeloupe\n",
    "#     GS    South Georgia and the South Sandwich Islands\n",
    "#     HM               Heard Island and McDonald Islands\n",
    "#     IO                  British Indian Ocean Territory\n",
    "    [\"JE\", 5.004e9, 2015],\n",
    "    [\"KP\", 16631e6, 2019],\n",
    "    [\"MF\", 561.5e6, 2005],\n",
    "#     MQ                                      Martinique\n",
    "    [\"MS\", 67288888.89, 2019],\n",
    "#     NF                                  Norfolk Island\n",
    "    [\"NU\", 10.01e6, 2003],\n",
    "    [\"PM\", 261.3e6, 2015],\n",
    "#     PN                                        Pitcairn\n",
    "#     RE                                         Réunion\n",
    "#     SH    Saint Helena, Ascension and Tristan da Cunha\n",
    "#     SJ                          Svalbard and Jan Mayen\n",
    "#     TF                     French Southern Territories\n",
    "#     TK                                         Tokelau\n",
    "    [\"TW\", 610.692e9, 2019],\n",
    "#     UM            United States Minor Outlying Islands\n",
    "#     VA                                        Holy See\n",
    "    [\"VG\", 1.028e9, 2017],\n",
    "    [\"WF\", 195e6, 2005],\n",
    "#     YT                                         Mayotte\n",
    "]\n",
    "\n",
    "override = pd.DataFrame(data=[[x[1], x[2]] for x in override_gdp], index=[x[0] for x in override_gdp], columns=['gdp', 'gdp_year'])\n",
    "country_data.update(override)\n",
    "\n",
    "country_data.loc['AQ', 'region'] = \"Antarctica\"\n",
    "country_data.loc['AQ', 'sub-region'] = \"Antarctica\"\n",
    "\n",
    "country_data.loc[country_data['gdp'].isna(), 'gdp'] = 10\n",
    "country_data.loc[country_data['gdp_year'].isna(), 'gdp_year'] = 0\n",
    "\n",
    "country_data = country_data.astype({'gdp_year': 'int32'})"
   ]
  },
  {
   "cell_type": "code",
   "execution_count": 178,
   "metadata": {},
   "outputs": [],
   "source": [
    "country_data.loc['BO', 'name'] = \"Bolivia\"\n",
    "country_data.loc['CD', 'name'] = \"Democratic Republic of the Congo\"\n",
    "country_data.loc['IR', 'name'] = \"Iran\"\n",
    "country_data.loc['KP', 'name'] = \"North Korea\"\n",
    "country_data.loc['KR', 'name'] = \"South Korea\"\n",
    "country_data.loc['LA', 'name'] = \"Laos\"\n",
    "country_data.loc['FM', 'name'] = \"Micronesia\"\n",
    "country_data.loc['MD', 'name'] = \"Moldova\"\n",
    "country_data.loc['RU', 'name'] = \"Russia\"\n",
    "country_data.loc['TW', 'name'] = \"Taiwan\"\n",
    "country_data.loc['TZ', 'name'] = \"Tanzania\"\n",
    "country_data.loc['GB', 'name'] = \"United Kingdom\"\n",
    "country_data.loc['VE', 'name'] = \"Venezuela\"\n",
    "country_data.loc['SY', 'name'] = \"Syria\"\n",
    "country_data.loc['PS', 'name'] = \"Palestine\""
   ]
  },
  {
   "cell_type": "markdown",
   "metadata": {},
   "source": [
    "# Export"
   ]
  },
  {
   "cell_type": "code",
   "execution_count": 179,
   "metadata": {},
   "outputs": [],
   "source": [
    "df.to_json('rtas.json', orient=\"records\")"
   ]
  },
  {
   "cell_type": "code",
   "execution_count": 180,
   "metadata": {},
   "outputs": [],
   "source": [
    "nodes = {}\n",
    "for index, row in country_data.iterrows():    \n",
    "    nodes[row.name] = {\n",
    "        \"id\": row.name,\n",
    "        \"name\": row['name'],\n",
    "        \"alpha3\": row['alpha-3'],\n",
    "        \"region\": row['region'],\n",
    "        \"subregion\": row['sub-region'],\n",
    "        \"gdp\": row['gdp'],\n",
    "        \"gdpyear\": row['gdp_year']\n",
    "    }\n",
    "    \n",
    "links = {}\n",
    "for index, row in df[df.type.apply(lambda x: x.find('PSA') == -1)].iterrows():\n",
    "    cur_rta = row_to_links(row.countries, index)\n",
    "    for key, value in cur_rta.items():\n",
    "        if key in links:\n",
    "            links[key]['rtas'] = links[key]['rtas'] + value['rtas']\n",
    "        else:\n",
    "            links[key] = value\n",
    "\n",
    "final_obj = {\"nodes\": nodes, \"links\": links, \"total_gdp\": world_gdp}\n",
    "\n",
    "with open('data.json', 'w') as outfile:\n",
    "    json.dump(final_obj, outfile)"
   ]
  }
 ],
 "metadata": {
  "kernelspec": {
   "display_name": "Python 3",
   "language": "python",
   "name": "python3"
  },
  "language_info": {
   "codemirror_mode": {
    "name": "ipython",
    "version": 3
   },
   "file_extension": ".py",
   "mimetype": "text/x-python",
   "name": "python",
   "nbconvert_exporter": "python",
   "pygments_lexer": "ipython3",
   "version": "3.8.5"
  }
 },
 "nbformat": 4,
 "nbformat_minor": 4
}
